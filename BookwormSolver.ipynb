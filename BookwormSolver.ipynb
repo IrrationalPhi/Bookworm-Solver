{
 "cells": [
  {
   "cell_type": "code",
   "execution_count": 1,
   "metadata": {},
   "outputs": [],
   "source": [
    "from collections import defaultdict"
   ]
  },
  {
   "cell_type": "code",
   "execution_count": 2,
   "metadata": {},
   "outputs": [],
   "source": [
    "# function to create default dict \n",
    "# keys are elements of list, value is num occurences\n",
    "def defaultdict_from_list(li):\n",
    "    res = defaultdict(int)\n",
    "    for elem in li:\n",
    "        res[elem] += 1\n",
    "    return res"
   ]
  },
  {
   "cell_type": "code",
   "execution_count": 11,
   "metadata": {},
   "outputs": [],
   "source": [
    "class TrieNode:\n",
    "    def __init__(self, ch = \"\"):\n",
    "        self.char = ch\n",
    "        self.isEnd = False\n",
    "        # (char, char TrieNode)\n",
    "        self.children = {}\n",
    "\n",
    "    def set_end(self):\n",
    "        self.isEnd = True\n",
    "\n",
    "    def add_child(self, ch):\n",
    "        # if not yet registered, add a new trie\n",
    "        if ch not in self.children:\n",
    "            childTrieNode = TrieNode(ch)\n",
    "            self.children[ch] = childTrieNode\n",
    "                \n",
    "class Trie:     \n",
    "    def __init__(self):\n",
    "        self.root = TrieNode()\n",
    "    \n",
    "    def add_word(self, word):\n",
    "        currNode = self.root\n",
    "        for currIdx in range(len(word)):\n",
    "            currNode.add_child(word[currIdx])\n",
    "            currNode = currNode.children[word[currIdx]]\n",
    "            \n",
    "        # mark as the end of a word\n",
    "        currNode.set_end()\n",
    "        \n",
    "    def add_words(self, words):\n",
    "        for word in words:\n",
    "            self.add_word(word)\n",
    "            \n",
    "    def add_from_text(self, file):\n",
    "        with open(file, 'r') as wordList:\n",
    "            for line in wordList:\n",
    "                for word in line.split():\n",
    "                    self.add_word(word)\n",
    "            \n",
    "    # something wrong here\n",
    "    def search_possible_words(self, letters):\n",
    "        res = defaultdict(set)\n",
    "        letters = defaultdict_from_list(letters)\n",
    "        \n",
    "        # arguments: current list of letters, current node\n",
    "        def dfs(currList, currNode):\n",
    "            # when we leave, we add\n",
    "            for letter in currNode.children:\n",
    "                if letter in letters:\n",
    "                    currList.append(letter)\n",
    "                    letters[letter] -= 1\n",
    "                    \n",
    "                    # if already a word, we add\n",
    "                    if currNode.children[letter].isEnd:\n",
    "                        currString = \"\".join(currList)\n",
    "                        res[len(currString)].add(currString)\n",
    "                    \n",
    "                    if letters[letter] == 0:\n",
    "                        del letters[letter]\n",
    "\n",
    "                    # recurse for dfs\n",
    "                    dfs(currList, currNode.children[letter])\n",
    "                    # undo\n",
    "                    letters[letter] += 1\n",
    "                    currList.pop()\n",
    "                    \n",
    "        dfs([], self.root)\n",
    "        return res"
   ]
  },
  {
   "cell_type": "code",
   "execution_count": 12,
   "metadata": {},
   "outputs": [],
   "source": [
    "trie = Trie()\n",
    "trie.add_from_text('wordList.txt')"
   ]
  },
  {
   "cell_type": "code",
   "execution_count": 13,
   "metadata": {},
   "outputs": [],
   "source": [
    "letters = [\n",
    "    'm', 'i', 's', 'u', 'n', 'd', 'e', 'r',\n",
    "    's', 't', 'a', 'n', 'd', 'i', 'n', 'g',\n",
    "    ]"
   ]
  },
  {
   "cell_type": "code",
   "execution_count": 17,
   "metadata": {},
   "outputs": [
    {
     "name": "stdout",
     "output_type": "stream",
     "text": [
      "16 LETTER WORDS: \n",
      "misunderstanding\n",
      "\n",
      "14 LETTER WORDS: \n",
      "understandings\n",
      "\n",
      "13 LETTER WORDS: \n",
      "misunderstand, understanding\n",
      "\n",
      "11 LETTER WORDS: \n",
      "understands, administers, indenturing, unresisting, undermining\n",
      "\n",
      "10 LETTER WORDS: \n",
      "denaturing, graininess, industries, addressing, magnitudes, unassigned, daringness, sauntering, entraining, dissenting, misreading, sustaining, understand, daintiness, numerating, untidiness, insinuates, miniatures, insinuated, inundating, smartening, assignment, insurgents, signatures, unstrained, administer, dissuading, transuding, detraining, undressing\n",
      "\n",
      "9 LETTER WORDS: \n",
      "redundant, migraines, germinant, mediating, dissuader, measuring, streaming, disguised, unstained, gauntness, asserting, dinginess, dissident, ruminants, detaining, urinating, guanidine, sanitised, indenting, straining, giddiness, diseasing, meridians, gradients, indignant, misguides, dirtiness, angriness, arguments, triennium, destining, saturnine, insinuate, intending, disinters, insurgent, ingrained, maddening, surmising, ensnaring, disunited, retaining, muddiness, mastering, resisting, inserting, intrigues, mustering, remanding, reissuing, magnitude, untrained, antiserum, suntanned, rudiments, stranding, demanding, reuniting, saddening, minidress, standings, miniature, signature, remaining, intrigued, unstaring, ruddiness, sustained, disarming, mannerist, grandness, assenting, inundates, satirised, annuities, unmeaning, disgusted, disguiser, integrand, transuded, tardiness, gaudiness, misguided, intruding, assurgent, inundated, nursemaid, reminding, sundering, emigrants, interning, ministers\n",
      "\n",
      "8 LETTER WORDS: \n",
      "assigner, ingrains, detuning, druidism, urinates, midrange, dainties, stadiums, migrants, trainmen, disdains, imaginer, denuding, gantries, semiarid, unitises, assuring, renaming, angriest, stingier, intrudes, stringed, rudiment, studding, asterism, staining, disarmed, mantises, gradient, migrated, training, imagines, satirise, meriting, residing, daunting, unmanned, antigens, margined, ganister, saunters, enduring, surnamed, migraine, minuends, disguise, seminars, intrigue, draining, augments, surmised, geranium, readings, seriatim, treading, gaminess, disaster, misguide, daintier, misusing, grandest, undreamt, unitised, artiness, sanguine, martinis, unending, demising, intruded, assigned, reassign, radiuses, remnants, mustards, sinister, trending, striding, imagined, disinter, dissuade, surnames, garments, gentians, unsigned, naturism, indigent, remising, turnings, steaming, trimness, sundries, trussing, migrates, indurate, mustangs, meanings, misreads, ringside, minister, entrains, mutinies, standing, grannies, terminus, dreaming, admiring, insisted, urinated, ruminate, ruminant, meridian, sardines, argument, giantess, sedating, aridness, dreading, tidiness, dressing, deriding, sanitise, stridden, inundate, insuring, smarting, minutiae, inertias, ensuring, amending, unstring, grimness, desiring, minarets, detrains, transude, airiness, strained, emigrant, rainiest, adenitis, smearing, disunite, auditing, aneurism, earnings, stranded, maturing, insiders, stunning, resuming, assuming, neuritis, diriment\n",
      "\n",
      "7 LETTER WORDS: \n",
      "dirtied, strands, nearing, smudged, damning, running, sternum, studies, sanders, address, daunted, meaning, inmates, muddier, satires, unities, dimness, renting, insures, minutia, stunner, ensuing, marines, drained, admired, teaming, messing, retains, martens, trained, guarded, inertia, demands, medians, anteing, imagist, sinning, atriums, turning, gutsier, margins, unaided, strides, mintage, minting, gentian, issuant, raiding, airiest, giddier, nastier, endings, trudged, tunings, imagine, tansies, editing, natures, raiment, daisies, madding, strange, unarmed, dustmen, earning, saddens, sardine, garment, tigress, dusting, smiting, ranting, drudges, guanine, mangers, stained, nudists, nesting, mistier, interim, inuring, innards, streams, tensing, studier, truisms, ratings, uniting, strings, sudsier, stadium, misused, musings, sunnier, matures, stagers, reading, sidings, assumed, untamed, surname, madness, denting, disgust, ingrain, misread, dandies, remains, assumer, surmise, smarten, sending, admires, stamens, easting, detains, sandier, maidens, retinas, assured, ridings, dragnet, reusing, stigmas, seining, minaret, tinnier, animist, insured, misdate, grained, sainted, misters, issuing, granite, diarist, minuted, innings, erasing, mundane, distend, gaudier, sugared, dismast, sideman, guitars, singers, rinsing, nannies, seaming, musters, undated, intrude, dissent, ignites, trading, mending, snidest, intrans, unnamed, grunted, undress, ingrate, strains, runtime, agendum, disdain, snaring, staring, studied, dustman, tanning, tidings, maddest, designs, astride, raining, unmated, gaudies, ragtime, remnant, ingress, sunders, seating, tirades, raising, saddest, trudges, regains, teasing, diaries, unmeant, matured, nursing, insides, amusing, tearing, suiting, audient, gardens, gisarme, raisins, mirages, mitring, digress, augment, gainers, reminds, martini, saunter, dandier, grinned, digests, gunners, smarted, terming, mustier, ensigns, tsunami, gaiters, inanest, minuend, seminar, dustier, intends, asinine, dissert, tinning, dinners, ruining, degauss, instead, manners, natured, dairies, danseur, reaming, darting, minding, arsines, sustain, enduing, amusers, insider, dinning, tanners, sinuate, sunning, untried, massing, reining, stunned, migrant, granted, entrain, resigns, darning, mustard, minuses, masters, inserts, sinners, engrain, urinate, disused, timings, misting, antigen, resting, tangier, dangers, interns, maunder, sestina, smidgen, regnant, dirties, ignited, airings, stinger, dusters, sanding, ridding, mudding, asunder, ninnies, magnets, arising, searing, manning, minutes, minders, detrain, unitise, indents, sensing, signers, tending, risings, missing, termini, nitride, migrate, manures, dingier, stagier, sundaes, guineas, mustang, grassed, sidearm, mussing, mangier, residua, middies, audited, rending, rusting, disarms, masseur, durmast, sunrise\n",
      "\n",
      "6 LETTER WORDS: \n",
      "ensign, raised, atrium, inning, misers, ranges, tiding, sienna, asides, rating, tennis, eating, unties, staged, guests, augers, gaited, miring, danger, tidies, argues, direst, during, tinder, insure, detain, sugars, tinged, amuser, driest, amidst, argued, tannin, tigers, mussed, radius, unites, tinier, drains, unseat, magnet, guider, mature, riming, stairs, daises, airing, amuses, gunned, intend, diners, tissue, diesis, irises, massed, guises, nursed, gunner, muster, minter, demist, remain, reigns, tuning, gunter, marten, timing, gratis, meting, digest, tandem, gunman, diadem, mirage, minted, admire, sterns, stigma, midden, madden, desist, margin, design, tundra, urgent, smudge, unread, gamine, gainer, unmade, indium, animus, dirges, minuet, mantis, admits, midair, insert, usages, misted, rennin, signet, singed, unrest, signer, images, unsaid, nature, duress, sadist, sunset, arsine, strung, strand, enigma, gusset, mister, nudist, sinner, rained, assent, stands, nudism, digits, snared, maiden, siring, midges, airgun, regain, inside, rising, gneiss, masted, aimers, ruined, siesta, russet, graded, drudge, raisin, daunts, retain, remits, asters, ardent, traded, midget, tedium, autism, tiring, manure, dreamt, ringed, sanded, tanner, minded, gannet, gamier, surged, miners, remind, tidier, regnum, inseam, stride, truing, guitar, remand, sunder, aiding, argent, sander, sundae, intern, ridges, sadism, saints, ursine, desman, inured, giants, darned, mining, radium, madder, martin, merits, stream, gasser, inaner, astern, adding, suntan, stages, tisane, damned, dining, minute, gained, greats, serums, stares, siding, tidied, audits, dusted, sunned, truism, garnet, strain, dentin, raided, rudest, gerund, median, rusted, amused, matins, garden, dreads, guards, manger, medias, ridged, duster, disuse, stains, gander, airmen, manner, deigns, grants, auntie, mitred, denims, duenna, sterna, sanest, grates, nurses, gunmen, steams, angers, demand, turned, nutmeg, adders, girded, sinned, guinea, gaiter, dermis, grunts, rumens, trends, ignite, imaret, tarsus, raises, agents, gassed, treads, simian, maitre, stings, sadder, inmate, resign, darted, trudge, sinter, sister, rinses, resins, singer, naming, innate, tinned, dander, dieing, insets, marine, stamen, surges, triage, smarts, indent, insist, misuse, assert, surest, duties, ranted, sansei, rinsed, arisen, triune, durian, insane, ridden, sudden, tanned, minder, issuer, assure, genius, guised, nudges, gratin, assign, united, retina, dreams, stared, grimes, undine, sating, sirens, snares, sadden, master, untied, signed, ranged, taming, guided, armies, turgid, dinner, guides, unsent, issued, nutria, grinds, trains, grains, nudged, easing, riding, snider, remiss, dating, disarm, engird, arises, mating, satire, trades, missed, assume, arming, aiming, suited, imaged, estrum, grades, ingest, timers, sedans, muting, smears, undies, suites, tirade, string, daring, demurs, degust, grated, amends, musing, ending, resist, manned, tuners, stager, grimed\n",
      "\n",
      "5 LETTER WORDS: \n",
      "dates, drums, maser, resin, units, rages, dined, strum, nitre, stage, unarm, udder, dread, daunt, auger, rumen, sands, ennui, unite, dusts, grime, great, anted, singe, means, range, aunts, mares, earns, darts, issue, dregs, tames, seats, dated, tiers, sides, ridge, gated, unmet, grist, stair, dirge, aides, gnats, sires, smuts, aimed, tines, aided, sitar, staid, miner, rings, stain, sites, surge, stare, gains, grass, muter, deign, inset, gates, grads, users, grand, mists, armed, merit, stern, dries, satin, remit, urges, diner, gamin, ramie, marts, stung, inter, stars, deism, degas, seams, agent, menus, denim, smart, masts, saner, steam, reads, manse, minis, tires, angst, teams, annum, timid, sedum, rants, untie, amine, stems, manes, gents, miens, raids, grain, asset, seism, inane, raise, tears, dears, mater, sends, tries, damns, dream, gears, germs, muted, aster, minds, gamut, grant, tunas, tarsi, urine, dried, durst, times, genii, gaits, rated, astir, tunes, runes, genus, timer, anger, dares, miser, tuner, trade, image, aegis, admit, media, tress, grind, aimer, derma, nines, sings, nests, nisei, giant, mires, stead, anent, duets, diets, unset, mange, rises, snare, regna, stein, sited, dared, rents, anise, guess, runts, tends, using, gusts, inert, sided, magus, deans, sigma, adieu, mired, maids, meats, turns, girds, nisus, sutra, grunt, emits, musts, digit, studs, mined, sinus, mitre, aired, under, drugs, sired, manus, dater, amide, serum, mints, mains, demur, ruins, guise, suite, snags, trine, smite, snide, argue, radii, rinds, nadir, nudes, nears, nudge, grins, sugar, rates, meads, terms, tread, rigid, dunes, rinse, arise, mends, truss, sated, tided, tuned, stags, drags, gauds, rains, minus, mated, unman, grits, train, aside, adder, stand, arsis, rungs, tiger, datum, edits, amiss, signs, siren, reins, tined, suits, deist, suing, minas, drain, mites, urged, gauss, rends, guest, tides, dimes, dress, mused, trued, ideas, mutes, names, grade, risen, rites, dines, amuse, inner, intra, reams, triad, sears, amend, rides, sages, gaunt, unrig, reign, tried, gases, dents, trims, tumid, tinge, mates, druid, nurse, demit, mines, tamer, timed, rusts, inure, sedan, meant, stuns, rests, ruing, guard, named, games, raged, grate, smear, midge, irate, stirs, darns, trend, sates, midst, tamed, undid, items, audit, usage, guide, sting, tired, grids, gamed, saint\n",
      "\n",
      "4 LETTER WORDS: \n",
      "dime, gnus, mead, must, nuns, aunt, runs, tern, emir, sure, girt, gnat, dust, stag, arse, seat, sued, near, mist, read, eras, emit, teas, sags, name, edam, ends, mugs, runt, sage, neat, sate, mats, seas, rung, mend, sans, team, died, drag, airs, digs, eats, edit, nets, ties, urea, drum, drat, unit, sits, mars, game, sane, dine, reds, rues, aged, etui, urns, dear, mute, ands, gaud, tide, seta, iris, stem, mane, rite, aims, guts, tins, sine, dent, dame, ears, rant, sang, dead, dues, sent, tsar, gird, ague, idea, tags, arts, dims, urge, guns, star, dads, damn, nine, sera, site, snug, suds, sums, tram, dint, demi, diem, grad, earn, sing, mass, mega, dens, rats, dune, egad, ruts, mint, gins, etas, gets, sear, item, gain, gust, mast, miss, surd, main, grim, ruse, tars, anti, menu, tare, mess, grid, idem, mate, dirt, sins, rain, nest, date, side, dart, sire, inns, gate, nuts, muse, rids, assn, sati, amid, tang, mind, stun, tuna, dies, dare, suns, dean, ting, dung, sari, snag, smug, nude, rest, meat, muss, grin, gums, used, term, semi, mean, rein, tear, ides, gaur, stud, sues, tugs, mire, rugs, same, ants, gait, rust, gent, rend, nags, said, mart, rune, gist, tine, mans, amen, true, rims, tier, user, tarn, sign, duds, arid, east, mite, rang, rime, arte, raid, dude, dais, ream, sand, smut, tire, rigs, sets, meta, aide, snit, mare, mine, rind, ring, ante, rise, gems, made, rams, ruin, mesa, dreg, send, stir, rags, trig, rate, time, arms, dram, arum, tame, tens, midi, seam, diet, duet, sung, gear, maid, mien, germ, suet, ding, tans, suit, tend, guan, rage, magi, aids, dang, drug, ride, adds, mini, tune, turn, sirs, darn, grit, rude, rent, trim, uses, dams, ages, mage, dire, anus, tied\n",
      "\n",
      "3 LETTER WORDS: \n",
      "sag, ads, are, nun, den, dug, man, rut, rue, sum, gnu, tar, rid, gin, sad, gum, add, git, dun, nut, rag, tug, mat, rat, men, sue, rig, ran, ram, mud, gas, met, inn, sea, run, ser, dam, ism, din, rim, due, net, dad, aim, arm, end, tag, era, ret, rug, gad, rum, tam, dig, ear, erg, mid, ate, tan, ire, gar, dim, sat, med, its, dud, ins, tea, gem, tad, art, red, sir, gun, mad, mug, tri, set, tie, ant, and, gut, ain, aid, sis, air, age, did, nag, ten, min, ide, die, use, sun, gat, sin, eat, tin, sit, tun, nit, urn, get, ass, mar\n",
      "\n"
     ]
    }
   ],
   "source": [
    "possible_words = trie.search_possible_words(letters)\n",
    "for length in range(16, 2, -1):\n",
    "    if length in possible_words:\n",
    "        print(f\"{length} LETTER WORDS: \")\n",
    "        print(*possible_words[length], sep=', ')\n",
    "        \n",
    "        print()"
   ]
  },
  {
   "cell_type": "code",
   "execution_count": null,
   "metadata": {},
   "outputs": [],
   "source": []
  }
 ],
 "metadata": {
  "kernelspec": {
   "display_name": "Python 3",
   "language": "python",
   "name": "python3"
  },
  "language_info": {
   "codemirror_mode": {
    "name": "ipython",
    "version": 3
   },
   "file_extension": ".py",
   "mimetype": "text/x-python",
   "name": "python",
   "nbconvert_exporter": "python",
   "pygments_lexer": "ipython3",
   "version": "3.7.7"
  }
 },
 "nbformat": 4,
 "nbformat_minor": 4
}
